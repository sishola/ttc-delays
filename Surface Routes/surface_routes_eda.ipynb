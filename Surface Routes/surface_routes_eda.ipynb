{
 "cells": [
  {
   "cell_type": "code",
   "execution_count": 1,
   "metadata": {},
   "outputs": [],
   "source": [
    "import pandas as pd\n",
    "import matplotlib.pyplot as plt\n",
    "import numpy as np\n",
    "import seaborn as sns\n",
    "\n",
    "%matplotlib inline\n",
    "\n",
    "plt.rcParams.update({'font.size': 16})\n",
    "plt.rcParams['axes.axisbelow'] = True\n",
    "\n",
    "import warnings\n",
    "warnings.filterwarnings(\"ignore\")"
   ]
  },
  {
   "cell_type": "code",
   "execution_count": 2,
   "metadata": {},
   "outputs": [],
   "source": [
    "surface = pd.read_csv('ttc_surface_route_delays.csv')\n",
    "weather = pd.read_csv('weather.csv')\n",
    "holidays = pd.read_csv('holidays.csv')"
   ]
  },
  {
   "cell_type": "code",
   "execution_count": 3,
   "metadata": {},
   "outputs": [],
   "source": [
    "surface['Report Date'] = pd.to_datetime(surface['Report Date'])\n",
    "surface['Month'] = surface['Report Date'].dt.month\n",
    "surface['nDay'] = surface['Report Date'].dt.day\n",
    "surface = surface.rename(columns={'Report Date': 'Date'})\n",
    "surface = surface.drop(columns=['Unnamed: 0'])\n",
    "\n",
    "weather['Date/Time'] = pd.to_datetime(weather['Date/Time'])\n",
    "weather = weather.rename(columns={\n",
    "    'Date/Time': 'Date', \n",
    "    'Mean Temp (°C)': 'Mean Temp', \n",
    "    'Total Precip (mm)': 'Precipitation'\n",
    "})\n",
    "weather = weather.drop(columns={'Year', 'Month', 'Day'})\n",
    "\n",
    "holidays = holidays.rename(columns={'date': 'Date', 'holiday': 'Holiday'})\n",
    "holidays['Date'] = pd.to_datetime(holidays['Date'])\n",
    "\n",
    "surface = pd.merge(surface, weather, on='Date', how='left')\n",
    "surface = pd.merge(surface, holidays, on='Date', how='left')\n",
    "\n",
    "surface['Holiday'] = surface['Holiday'].fillna('None')"
   ]
  },
  {
   "cell_type": "code",
   "execution_count": 5,
   "metadata": {},
   "outputs": [],
   "source": [
    "surface.to_csv('surface_master.csv')"
   ]
  },
  {
   "cell_type": "code",
   "execution_count": 4,
   "metadata": {},
   "outputs": [
    {
     "data": {
      "text/html": [
       "<div>\n",
       "<style scoped>\n",
       "    .dataframe tbody tr th:only-of-type {\n",
       "        vertical-align: middle;\n",
       "    }\n",
       "\n",
       "    .dataframe tbody tr th {\n",
       "        vertical-align: top;\n",
       "    }\n",
       "\n",
       "    .dataframe thead th {\n",
       "        text-align: right;\n",
       "    }\n",
       "</style>\n",
       "<table border=\"1\" class=\"dataframe\">\n",
       "  <thead>\n",
       "    <tr style=\"text-align: right;\">\n",
       "      <th></th>\n",
       "      <th>Date</th>\n",
       "      <th>Route</th>\n",
       "      <th>Time</th>\n",
       "      <th>Day</th>\n",
       "      <th>Location</th>\n",
       "      <th>Incident</th>\n",
       "      <th>Min Delay</th>\n",
       "      <th>Min Gap</th>\n",
       "      <th>Direction</th>\n",
       "      <th>Vehicle</th>\n",
       "      <th>...</th>\n",
       "      <th>nDay</th>\n",
       "      <th>Max Temp (°C)</th>\n",
       "      <th>Min Temp (°C)</th>\n",
       "      <th>Mean Temp</th>\n",
       "      <th>Total Rain (mm)</th>\n",
       "      <th>Total Snow (cm)</th>\n",
       "      <th>Precipitation</th>\n",
       "      <th>Snow on Grnd (cm)</th>\n",
       "      <th>Spd of Max Gust (km/h)</th>\n",
       "      <th>Holiday</th>\n",
       "    </tr>\n",
       "  </thead>\n",
       "  <tbody>\n",
       "    <tr>\n",
       "      <th>345522</th>\n",
       "      <td>2014-03-03</td>\n",
       "      <td>41</td>\n",
       "      <td>20.92</td>\n",
       "      <td>Saturday</td>\n",
       "      <td>West Toronto and Keele</td>\n",
       "      <td>Diversion</td>\n",
       "      <td>246245.0</td>\n",
       "      <td>260.0</td>\n",
       "      <td>b/w</td>\n",
       "      <td>1619.0</td>\n",
       "      <td>...</td>\n",
       "      <td>3</td>\n",
       "      <td>-11.4</td>\n",
       "      <td>-19.3</td>\n",
       "      <td>-15.4</td>\n",
       "      <td>0.0</td>\n",
       "      <td>0.0</td>\n",
       "      <td>0.0</td>\n",
       "      <td>18.4</td>\n",
       "      <td>36</td>\n",
       "      <td>None</td>\n",
       "    </tr>\n",
       "    <tr>\n",
       "      <th>214581</th>\n",
       "      <td>2016-07-26</td>\n",
       "      <td>506</td>\n",
       "      <td>5.67</td>\n",
       "      <td>Sunday</td>\n",
       "      <td>Howardpark and Dundas</td>\n",
       "      <td>Diversion</td>\n",
       "      <td>6518.0</td>\n",
       "      <td>6528.0</td>\n",
       "      <td>B/W</td>\n",
       "      <td>7403.0</td>\n",
       "      <td>...</td>\n",
       "      <td>26</td>\n",
       "      <td>29.5</td>\n",
       "      <td>17.6</td>\n",
       "      <td>23.6</td>\n",
       "      <td>0.0</td>\n",
       "      <td>0.0</td>\n",
       "      <td>0.0</td>\n",
       "      <td>0.0</td>\n",
       "      <td>35</td>\n",
       "      <td>None</td>\n",
       "    </tr>\n",
       "    <tr>\n",
       "      <th>269609</th>\n",
       "      <td>2015-03-21</td>\n",
       "      <td>32</td>\n",
       "      <td>5.00</td>\n",
       "      <td>Thursday</td>\n",
       "      <td>Eglinton and Richardson</td>\n",
       "      <td>Diversion</td>\n",
       "      <td>5775.0</td>\n",
       "      <td>5783.0</td>\n",
       "      <td>b/w</td>\n",
       "      <td>NaN</td>\n",
       "      <td>...</td>\n",
       "      <td>21</td>\n",
       "      <td>6.3</td>\n",
       "      <td>-4.4</td>\n",
       "      <td>1.0</td>\n",
       "      <td>1.4</td>\n",
       "      <td>0.0</td>\n",
       "      <td>2.9</td>\n",
       "      <td>0.0</td>\n",
       "      <td>57</td>\n",
       "      <td>None</td>\n",
       "    </tr>\n",
       "  </tbody>\n",
       "</table>\n",
       "<p>3 rows × 23 columns</p>\n",
       "</div>"
      ],
      "text/plain": [
       "             Date  Route   Time       Day                 Location   Incident  \\\n",
       "345522 2014-03-03     41  20.92  Saturday   West Toronto and Keele  Diversion   \n",
       "214581 2016-07-26    506   5.67    Sunday    Howardpark and Dundas  Diversion   \n",
       "269609 2015-03-21     32   5.00  Thursday  Eglinton and Richardson  Diversion   \n",
       "\n",
       "        Min Delay  Min Gap Direction  Vehicle  ...  nDay Max Temp (°C)  \\\n",
       "345522   246245.0    260.0       b/w   1619.0  ...     3         -11.4   \n",
       "214581     6518.0   6528.0       B/W   7403.0  ...    26          29.5   \n",
       "269609     5775.0   5783.0       b/w      NaN  ...    21           6.3   \n",
       "\n",
       "        Min Temp (°C)  Mean Temp  Total Rain (mm)  Total Snow (cm)  \\\n",
       "345522          -19.3      -15.4              0.0              0.0   \n",
       "214581           17.6       23.6              0.0              0.0   \n",
       "269609           -4.4        1.0              1.4              0.0   \n",
       "\n",
       "        Precipitation  Snow on Grnd (cm)  Spd of Max Gust (km/h)  Holiday  \n",
       "345522            0.0               18.4                      36     None  \n",
       "214581            0.0                0.0                      35     None  \n",
       "269609            2.9                0.0                      57     None  \n",
       "\n",
       "[3 rows x 23 columns]"
      ]
     },
     "execution_count": 4,
     "metadata": {},
     "output_type": "execute_result"
    }
   ],
   "source": [
    "surface.sort_values('Min Delay', ascending=False).head(3)"
   ]
  },
  {
   "cell_type": "code",
   "execution_count": null,
   "metadata": {},
   "outputs": [],
   "source": [
    "surface.head()"
   ]
  },
  {
   "cell_type": "code",
   "execution_count": null,
   "metadata": {},
   "outputs": [],
   "source": [
    "holidays.head()"
   ]
  },
  {
   "cell_type": "code",
   "execution_count": null,
   "metadata": {},
   "outputs": [],
   "source": [
    "weather.head()"
   ]
  },
  {
   "cell_type": "code",
   "execution_count": null,
   "metadata": {},
   "outputs": [],
   "source": [
    "surface.info()"
   ]
  },
  {
   "cell_type": "code",
   "execution_count": null,
   "metadata": {},
   "outputs": [],
   "source": []
  },
  {
   "cell_type": "code",
   "execution_count": null,
   "metadata": {},
   "outputs": [],
   "source": []
  },
  {
   "cell_type": "code",
   "execution_count": null,
   "metadata": {},
   "outputs": [],
   "source": [
    "\n",
    "surface = surface[surface['Min Delay'] < 7000]\n",
    "surface['Route'] = surface['Route'].astype('category')\n",
    "surface['Vehicle'] = surface['Vehicle'].astype('category')"
   ]
  },
  {
   "cell_type": "code",
   "execution_count": null,
   "metadata": {},
   "outputs": [],
   "source": [
    "surface.sort_values('Min Delay', ascending=False).head(5)"
   ]
  },
  {
   "cell_type": "code",
   "execution_count": null,
   "metadata": {},
   "outputs": [],
   "source": [
    "routes = surface.groupby('Route').agg({'Min Delay': 'sum', 'Precipitation': 'sum'})\n",
    "routes\n",
    "\n",
    "fig, ax = plt.subplots(1, figsize = [12.5, 7])\n",
    "\n",
    "ax.scatter(routes['Precipitation'], routes['Min Delay'])\n",
    "\n",
    "ax.set_ylabel('Minutes Delayed')\n",
    "ax.set_xlabel('Precipitation (Snow + Rain in mm)')\n",
    "ax.set_title('Grouped by Route #, Sum of Minutes Delayed vs Sum of Precipitation')\n",
    "\n",
    "plt.show()"
   ]
  },
  {
   "cell_type": "markdown",
   "metadata": {},
   "source": [
    "<center><h2>Exploratory Scatterplot</center</h2>"
   ]
  },
  {
   "cell_type": "code",
   "execution_count": null,
   "metadata": {},
   "outputs": [],
   "source": [
    "fig, ax = plt.subplots(1, figsize = [12.5, 7])\n",
    "\n",
    "ax.scatter(\n",
    "    surface['Precipitation'], \n",
    "    surface['Min Delay'], \n",
    "    c=surface['Mean Temp'], \n",
    "    alpha = 0.5\n",
    ")\n",
    "\n",
    "ax.set_ylabel('Minutes')\n",
    "ax.set_xlabel('Daily Precipitation')\n",
    "ax.set_title('Surface Routes - Temperature vs. Minutes Delayed')\n",
    "\n",
    "plt.text(-30, -2000, 'Note: \\\n",
    "                    \\n- Temperature in degrees celsius. \\\n",
    "                    \\n- Outlier of 246245 (2014-03-03) minutes delayed removed. \\\n",
    "                    \\n- Colored by Mean Temperature per Day')\n",
    "\n",
    "plt.tight_layout()\n",
    "plt.savefig('Surface Routes - Temperature vs. Minutes Delayed.png')\n",
    "plt.show()"
   ]
  },
  {
   "cell_type": "code",
   "execution_count": null,
   "metadata": {},
   "outputs": [],
   "source": [
    "vehicles = surface.groupby(['Date', 'Route', 'Vehicle']).agg({'Min Delay': 'sum', 'Min Gap': 'sum', 'Precipitation': 'sum'})\n",
    "vehicles = vehicles.rename(columns={'Min Delay': 'Total Minutes', 'Min Gap': 'Total Gap'}).reset_index()\n",
    "vehicles.head(10)"
   ]
  },
  {
   "cell_type": "code",
   "execution_count": null,
   "metadata": {},
   "outputs": [],
   "source": [
    "vehicles['Total Minutes'].mean(), vehicles['Total Gap'].mean()"
   ]
  },
  {
   "cell_type": "code",
   "execution_count": null,
   "metadata": {},
   "outputs": [],
   "source": [
    "vehicles = vehicles[vehicles['Total Minutes'] < 200]\n",
    "\n",
    "fig, ax = plt.subplots(1, figsize=[12.5, 7])\n",
    "\n",
    "ax.hist(vehicles['Total Minutes'], bins = 100)\n",
    "\n",
    "plt.show()"
   ]
  },
  {
   "cell_type": "markdown",
   "metadata": {},
   "source": [
    "<center><h2>Delay Time</h2></center>"
   ]
  },
  {
   "cell_type": "code",
   "execution_count": null,
   "metadata": {},
   "outputs": [],
   "source": [
    "groupedbyday = surface.groupby(['Date', 'Day']).agg({'Min Delay': 'sum'})\n",
    "groupedbyday = groupedbyday.reset_index()\n",
    "groupedbyday"
   ]
  },
  {
   "cell_type": "code",
   "execution_count": null,
   "metadata": {},
   "outputs": [],
   "source": [
    "\n",
    "\n",
    "fig, ax = plt.subplots(1, figsize = [12.5, 7])\n",
    "\n",
    "ax.hist(groupedbyday['Min Delay'], bins = 100)\n",
    "\n",
    "plt.show()"
   ]
  },
  {
   "cell_type": "code",
   "execution_count": null,
   "metadata": {},
   "outputs": [],
   "source": [
    "groupedbyday.mean(), groupedbyday.median()"
   ]
  },
  {
   "cell_type": "code",
   "execution_count": null,
   "metadata": {},
   "outputs": [],
   "source": [
    "totaldays = len(groupedbyday)\n",
    "totalmin = groupedbyday['Min Delay'].sum()\n",
    "meanminperday = round(groupedbyday['Min Delay'].mean(), 2)\n",
    "medianminperday = round(groupedbyday['Min Delay'].median(), 2)\n",
    "daysdelay = round((groupedbyday['Min Delay'].sum()/60)/24, 2)\n",
    "percdelay = round((daysdelay / totaldays)/100, 2)\n",
    "sigmaday = round(groupedbyday['Min Delay'].std(), 2)\n",
    "delayvariance = round(sigmaday ** 2, 2)\n",
    "\n",
    "delaystats_dict = {\n",
    "    'Total Days': totaldays,\n",
    "    'Total Minutes': daysdelay,\n",
    "    'Mean Min. per Day': meanminperday,\n",
    "    'Median Min. per Day': medianminperday,\n",
    "    '% of Days Delayed': percdelay,\n",
    "    'Daily Sigma': sigmaday,\n",
    "    'Delay Variance': delayvariance\n",
    "}\n",
    "\n",
    "delaystats = pd.DataFrame(delaystats_dict, index=['Stats'])\n",
    "\n",
    "delaystats = delaystats.style.format({\n",
    "    '% of Days Delayed': '{:.2%}'.format\n",
    "})"
   ]
  },
  {
   "cell_type": "code",
   "execution_count": null,
   "metadata": {},
   "outputs": [],
   "source": [
    "totaldays, totalmin, meanminperday, medianminperday, daysdelay, percdelay, sigmaday, delayvariance"
   ]
  },
  {
   "cell_type": "code",
   "execution_count": null,
   "metadata": {},
   "outputs": [],
   "source": [
    "delaystats"
   ]
  },
  {
   "cell_type": "code",
   "execution_count": null,
   "metadata": {},
   "outputs": [],
   "source": [
    "surface.head()"
   ]
  },
  {
   "cell_type": "code",
   "execution_count": null,
   "metadata": {},
   "outputs": [],
   "source": [
    "incidents = surface.groupby('Incident').agg({'Min Delay': 'sum', 'Min Gap': 'sum'}).sort_values('Min Delay')\n",
    "incidents = incidents.reset_index()\n",
    "incidents"
   ]
  },
  {
   "cell_type": "code",
   "execution_count": null,
   "metadata": {},
   "outputs": [],
   "source": [
    "names = incidents['Incident'].unique().tolist()\n",
    "names"
   ]
  },
  {
   "cell_type": "code",
   "execution_count": null,
   "metadata": {},
   "outputs": [],
   "source": [
    "bar1 = weekdays['Min Delay']\n",
    "bar2 = weekdays['Min Gap']\n",
    "\n",
    "label = weekdays['Day']\n",
    "barwidth = 1\n",
    "names = weekdays['Day'].unique().tolist()\n",
    "dayorder = [1, 5, 6, 4, 0, 2, 3]\n",
    "names = [names[i] for i in dayorder]"
   ]
  },
  {
   "cell_type": "code",
   "execution_count": null,
   "metadata": {},
   "outputs": [],
   "source": [
    "bar1 = incidents['Min Delay']\n",
    "bar2 = incidents['Min Gap']\n",
    "\n",
    "label = incidents['Incident']\n",
    "barwidth = 1\n",
    "\n",
    "description = incidents['Incident'].unique().tolist()\n",
    "description_order = [1, 2, 3, 4, 5, 6, 7, 8, 9, 10, 11, 12]\n",
    "descriptions = [description[i] for i in description_order]\n",
    "\n",
    "bars = np.add(bar1, bar2).tolist()\n",
    "\n",
    "fig, ax = plt.subplots(1, figsize = [12.5, 10])\n",
    "\n",
    "p1 = ax.bar(label, bar1, color='#800000', edgecolor='white', width=barwidth)\n",
    "p2 = ax.bar(label, bar2, bottom=bar1, color='#888888', edgecolor='white', width=barwidth)\n",
    "\n",
    "ax.set_ylabel('Minutes')\n",
    "ax.set_xlabel('Days of the Week')\n",
    "ax.set_title('Sum of Minutes per Delay Description')\n",
    "\n",
    "plt.legend((p1[0], p2[0]), ('Minutes Delayed', 'Gap in Minutes'))\n",
    "\n",
    "plt.xticks(label, descriptions, rotation = 35)\n",
    "\n",
    "plt.tight_layout()\n",
    "\n",
    "plt.savefig('Sum of Minutes per Delay Description.png')\n",
    "plt.show()"
   ]
  },
  {
   "cell_type": "code",
   "execution_count": null,
   "metadata": {},
   "outputs": [],
   "source": []
  }
 ],
 "metadata": {
  "kernelspec": {
   "display_name": "Python 3",
   "language": "python",
   "name": "python3"
  },
  "language_info": {
   "codemirror_mode": {
    "name": "ipython",
    "version": 3
   },
   "file_extension": ".py",
   "mimetype": "text/x-python",
   "name": "python",
   "nbconvert_exporter": "python",
   "pygments_lexer": "ipython3",
   "version": "3.7.3"
  }
 },
 "nbformat": 4,
 "nbformat_minor": 2
}
