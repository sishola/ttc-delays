{
 "cells": [
  {
   "cell_type": "code",
   "execution_count": 1,
   "metadata": {},
   "outputs": [
    {
     "name": "stderr",
     "output_type": "stream",
     "text": [
      "C:\\Users\\wl030\\Anaconda3\\lib\\site-packages\\numpy\\core\\__init__.py:29: UserWarning: loaded more than 1 DLL from .libs:\n",
      "C:\\Users\\wl030\\Anaconda3\\lib\\site-packages\\numpy\\.libs\\libopenblas.BNVRK7633HSX7YVO2TADGR4A5KEKXJAW.gfortran-win_amd64.dll\n",
      "C:\\Users\\wl030\\Anaconda3\\lib\\site-packages\\numpy\\.libs\\libopenblas.CSRRD7HKRKC3T3YXA7VY7TAZGLSWDKW6.gfortran-win_amd64.dll\n",
      "  stacklevel=1)\n"
     ]
    }
   ],
   "source": [
    "###WL-Load dependancies\n",
    "import numpy as np\n",
    "import pandas as pd\n",
    "import matplotlib.pyplot as plt\n",
    "import scipy.stats as stats"
   ]
  },
  {
   "cell_type": "code",
   "execution_count": 2,
   "metadata": {},
   "outputs": [],
   "source": [
    "###WL - Setup Dataframe\n",
    "file = 'surface_master.csv'\n",
    "df = pd.read_csv(file)\n",
    "\n",
    "###WL - Filter out 0 < min delay < 20\n",
    "df = df.loc[(df['Min Delay'] < 20) & (df['Min Delay'] > 0)]"
   ]
  },
  {
   "cell_type": "code",
   "execution_count": 3,
   "metadata": {},
   "outputs": [],
   "source": [
    "#df['Month'].head()"
   ]
  },
  {
   "cell_type": "code",
   "execution_count": 4,
   "metadata": {},
   "outputs": [],
   "source": [
    "#df.dtypes"
   ]
  },
  {
   "cell_type": "code",
   "execution_count": 5,
   "metadata": {},
   "outputs": [],
   "source": [
    "#master_df = df"
   ]
  },
  {
   "cell_type": "code",
   "execution_count": 6,
   "metadata": {},
   "outputs": [],
   "source": [
    "###WL - Logic to create a new column that calculates the season based on month value\n",
    "winter_index = df[df['Month'].isin([12,1,2])].index\n",
    "spring_index = df[df['Month'].isin([3,4,5])].index\n",
    "summer_index = df[df['Month'].isin([6,7,8])].index\n",
    "fall_index = df[df['Month'].isin([9,10,11])].index\n",
    "#print(winter_index)\n",
    "#print(fall_index)"
   ]
  },
  {
   "cell_type": "code",
   "execution_count": null,
   "metadata": {},
   "outputs": [],
   "source": []
  },
  {
   "cell_type": "code",
   "execution_count": 7,
   "metadata": {},
   "outputs": [],
   "source": [
    "###WL - Add the season to a new \"Season\" column.\n",
    "df.loc[winter_index,'Season']=\"Winter\"\n",
    "df.loc[spring_index,'Season']=\"Spring\"\n",
    "df.loc[summer_index,'Season']=\"Summer\"\n",
    "df.loc[fall_index,'Season']=\"Fall\"\n"
   ]
  },
  {
   "cell_type": "code",
   "execution_count": 8,
   "metadata": {},
   "outputs": [
    {
     "data": {
      "text/html": [
       "<div>\n",
       "<style scoped>\n",
       "    .dataframe tbody tr th:only-of-type {\n",
       "        vertical-align: middle;\n",
       "    }\n",
       "\n",
       "    .dataframe tbody tr th {\n",
       "        vertical-align: top;\n",
       "    }\n",
       "\n",
       "    .dataframe thead th {\n",
       "        text-align: right;\n",
       "    }\n",
       "</style>\n",
       "<table border=\"1\" class=\"dataframe\">\n",
       "  <thead>\n",
       "    <tr style=\"text-align: right;\">\n",
       "      <th></th>\n",
       "      <th>Season</th>\n",
       "      <th>Min Delay</th>\n",
       "    </tr>\n",
       "  </thead>\n",
       "  <tbody>\n",
       "    <tr>\n",
       "      <th>0</th>\n",
       "      <td>Fall</td>\n",
       "      <td>837976.0</td>\n",
       "    </tr>\n",
       "    <tr>\n",
       "      <th>1</th>\n",
       "      <td>Spring</td>\n",
       "      <td>931183.0</td>\n",
       "    </tr>\n",
       "    <tr>\n",
       "      <th>2</th>\n",
       "      <td>Summer</td>\n",
       "      <td>813892.0</td>\n",
       "    </tr>\n",
       "    <tr>\n",
       "      <th>3</th>\n",
       "      <td>Winter</td>\n",
       "      <td>922265.0</td>\n",
       "    </tr>\n",
       "  </tbody>\n",
       "</table>\n",
       "</div>"
      ],
      "text/plain": [
       "   Season  Min Delay\n",
       "0    Fall   837976.0\n",
       "1  Spring   931183.0\n",
       "2  Summer   813892.0\n",
       "3  Winter   922265.0"
      ]
     },
     "execution_count": 8,
     "metadata": {},
     "output_type": "execute_result"
    }
   ],
   "source": [
    "###WL - Group the season_df for season and min delay\n",
    "season_df = df.groupby('Season').agg({'Min Delay' : 'sum'}).reset_index()\n",
    "#reset_season_df = season_df.reset_index()\n",
    "#print(reset_season_df)\n",
    "#print(season_df)\n",
    "season_df"
   ]
  },
  {
   "cell_type": "markdown",
   "metadata": {},
   "source": [
    "# Analysis of \"Total Minutes Delay per Season\" Plot\n",
    "The plot shows that there are more total minutes delay in spring and winter than fall and summer"
   ]
  },
  {
   "cell_type": "code",
   "execution_count": 61,
   "metadata": {},
   "outputs": [
    {
     "data": {
      "image/png": "[encoded data removed]",
      "text/plain": [
       "<Figure size 900x504 with 1 Axes>"
      ]
     },
     "metadata": {
      "needs_background": "light"
     },
     "output_type": "display_data"
    },
    {
     "data": {
      "text/plain": [
       "<Figure size 432x288 with 0 Axes>"
      ]
     },
     "metadata": {},
     "output_type": "display_data"
    }
   ],
   "source": [
    "###WL - plot the bar graph\n",
    "fig, ax = plt.subplots(1, figsize = [12.5, 7])\n",
    "plt.xlabel('Season')\n",
    "plt.ylabel('Minutes Delayed')\n",
    "plt.title(\"Total Minutes Delay per Season\")\n",
    "ax.bar(season_df['Season'], season_df['Min Delay'])\n",
    "\n",
    "plt.show()\n",
    "plt.savefig('min_delay_season.png')"
   ]
  },
  {
   "cell_type": "code",
   "execution_count": 10,
   "metadata": {},
   "outputs": [
    {
     "data": {
      "text/html": [
       "<div>\n",
       "<style scoped>\n",
       "    .dataframe tbody tr th:only-of-type {\n",
       "        vertical-align: middle;\n",
       "    }\n",
       "\n",
       "    .dataframe tbody tr th {\n",
       "        vertical-align: top;\n",
       "    }\n",
       "\n",
       "    .dataframe thead th {\n",
       "        text-align: right;\n",
       "    }\n",
       "</style>\n",
       "<table border=\"1\" class=\"dataframe\">\n",
       "  <thead>\n",
       "    <tr style=\"text-align: right;\">\n",
       "      <th></th>\n",
       "      <th>Season</th>\n",
       "      <th>Min Delay</th>\n",
       "    </tr>\n",
       "  </thead>\n",
       "  <tbody>\n",
       "    <tr>\n",
       "      <th>0</th>\n",
       "      <td>Fall</td>\n",
       "      <td>95946</td>\n",
       "    </tr>\n",
       "    <tr>\n",
       "      <th>1</th>\n",
       "      <td>Spring</td>\n",
       "      <td>108654</td>\n",
       "    </tr>\n",
       "    <tr>\n",
       "      <th>2</th>\n",
       "      <td>Summer</td>\n",
       "      <td>91466</td>\n",
       "    </tr>\n",
       "    <tr>\n",
       "      <th>3</th>\n",
       "      <td>Winter</td>\n",
       "      <td>107350</td>\n",
       "    </tr>\n",
       "  </tbody>\n",
       "</table>\n",
       "</div>"
      ],
      "text/plain": [
       "   Season  Min Delay\n",
       "0    Fall      95946\n",
       "1  Spring     108654\n",
       "2  Summer      91466\n",
       "3  Winter     107350"
      ]
     },
     "execution_count": 10,
     "metadata": {},
     "output_type": "execute_result"
    }
   ],
   "source": [
    "###WL - Group the season_df for season and min delay\n",
    "count_df = df.groupby('Season').agg({'Min Delay' : 'count'}).reset_index()\n",
    "count_df"
   ]
  },
  {
   "cell_type": "markdown",
   "metadata": {},
   "source": [
    "# Analysis of \"Total Number of Incidents per Season\" Plot\n",
    "However the difference between fall and summer versuses spring and winter can be explained because there are more number of indicents that occur in spring and winter."
   ]
  },
  {
   "cell_type": "code",
   "execution_count": 63,
   "metadata": {},
   "outputs": [
    {
     "data": {
      "image/png": "[encoded data removed]",
      "text/plain": [
       "<Figure size 900x504 with 1 Axes>"
      ]
     },
     "metadata": {
      "needs_background": "light"
     },
     "output_type": "display_data"
    },
    {
     "data": {
      "text/plain": [
       "<Figure size 432x288 with 0 Axes>"
      ]
     },
     "metadata": {},
     "output_type": "display_data"
    }
   ],
   "source": [
    "###WL - plot the bar graph\n",
    "fig, ax = plt.subplots(1, figsize = [12.5, 7])\n",
    "plt.xlabel('Season')\n",
    "plt.ylabel('Count of Incidents')\n",
    "plt.title(\"Total Number of Incidents per Season\")\n",
    "ax.bar(count_df['Season'], count_df['Min Delay'])\n",
    "\n",
    "plt.show()\n",
    "plt.savefig('incidents_season.png')"
   ]
  },
  {
   "cell_type": "code",
   "execution_count": 12,
   "metadata": {},
   "outputs": [],
   "source": [
    "#reset_season_df.dtypes"
   ]
  },
  {
   "cell_type": "code",
   "execution_count": 13,
   "metadata": {},
   "outputs": [],
   "source": [
    "#season_name = ['Winter','Spring','Summer','Fall']\n",
    "#plt.bar(season_name,reset_season_df)"
   ]
  },
  {
   "cell_type": "code",
   "execution_count": 14,
   "metadata": {},
   "outputs": [],
   "source": [
    "#reset_season_df = reset_season_df.rename(columns={'Min Delay': 'Min_Delay'})"
   ]
  },
  {
   "cell_type": "code",
   "execution_count": 15,
   "metadata": {
    "scrolled": true
   },
   "outputs": [],
   "source": [
    "#print(reset_season_df)\n",
    "#ax = reset_season_df.plot.bar(x='Season',y = 'Min_Delay')\n",
    "#plt.show()\n",
    "\n"
   ]
  },
  {
   "cell_type": "code",
   "execution_count": 16,
   "metadata": {},
   "outputs": [],
   "source": [
    "#df['Season'].nunique()"
   ]
  },
  {
   "cell_type": "code",
   "execution_count": 17,
   "metadata": {},
   "outputs": [],
   "source": [
    "#df.head()"
   ]
  },
  {
   "cell_type": "markdown",
   "metadata": {},
   "source": [
    "# Analysis of \"Boxplot grouped by Season\" Plot\n",
    "The boxplot shows that the average length of delay is higher in fall and spring."
   ]
  },
  {
   "cell_type": "code",
   "execution_count": 64,
   "metadata": {},
   "outputs": [
    {
     "data": {
      "image/png": "[encoded data removed]",
      "text/plain": [
       "<Figure size 432x288 with 1 Axes>"
      ]
     },
     "metadata": {
      "needs_background": "light"
     },
     "output_type": "display_data"
    }
   ],
   "source": [
    "###WL - plot the boxgraph\n",
    "boxplot_df = df[['Min Delay', 'Season']]\n",
    "#df = df.loc[(df['Min Delay'] < 20) & (df['Min Delay'] > 0)]\n",
    "\n",
    "boxplot_df.boxplot(by='Season',grid=False, fontsize=15)\n",
    "plt.title(\"\")\n",
    "plt.ylabel(\"Minutes Delay\")\n",
    "plt.savefig('min_delay_boxplot.png')"
   ]
  },
  {
   "cell_type": "code",
   "execution_count": 28,
   "metadata": {},
   "outputs": [
    {
     "data": {
      "text/html": [
       "<div>\n",
       "<style scoped>\n",
       "    .dataframe tbody tr th:only-of-type {\n",
       "        vertical-align: middle;\n",
       "    }\n",
       "\n",
       "    .dataframe tbody tr th {\n",
       "        vertical-align: top;\n",
       "    }\n",
       "\n",
       "    .dataframe thead th {\n",
       "        text-align: right;\n",
       "    }\n",
       "</style>\n",
       "<table border=\"1\" class=\"dataframe\">\n",
       "  <thead>\n",
       "    <tr style=\"text-align: right;\">\n",
       "      <th></th>\n",
       "      <th></th>\n",
       "      <th>Incident</th>\n",
       "    </tr>\n",
       "    <tr>\n",
       "      <th>Incident</th>\n",
       "      <th>Season</th>\n",
       "      <th></th>\n",
       "    </tr>\n",
       "  </thead>\n",
       "  <tbody>\n",
       "    <tr>\n",
       "      <th rowspan=\"4\" valign=\"top\">Diversion</th>\n",
       "      <th>Fall</th>\n",
       "      <td>1875</td>\n",
       "    </tr>\n",
       "    <tr>\n",
       "      <th>Spring</th>\n",
       "      <td>2069</td>\n",
       "    </tr>\n",
       "    <tr>\n",
       "      <th>Summer</th>\n",
       "      <td>1848</td>\n",
       "    </tr>\n",
       "    <tr>\n",
       "      <th>Winter</th>\n",
       "      <td>1557</td>\n",
       "    </tr>\n",
       "    <tr>\n",
       "      <th rowspan=\"4\" valign=\"top\">Emergency Services</th>\n",
       "      <th>Fall</th>\n",
       "      <td>1924</td>\n",
       "    </tr>\n",
       "    <tr>\n",
       "      <th>Spring</th>\n",
       "      <td>2307</td>\n",
       "    </tr>\n",
       "    <tr>\n",
       "      <th>Summer</th>\n",
       "      <td>1923</td>\n",
       "    </tr>\n",
       "    <tr>\n",
       "      <th>Winter</th>\n",
       "      <td>1945</td>\n",
       "    </tr>\n",
       "    <tr>\n",
       "      <th rowspan=\"4\" valign=\"top\">General Delay</th>\n",
       "      <th>Fall</th>\n",
       "      <td>12789</td>\n",
       "    </tr>\n",
       "    <tr>\n",
       "      <th>Spring</th>\n",
       "      <td>11982</td>\n",
       "    </tr>\n",
       "    <tr>\n",
       "      <th>Summer</th>\n",
       "      <td>9609</td>\n",
       "    </tr>\n",
       "    <tr>\n",
       "      <th>Winter</th>\n",
       "      <td>10009</td>\n",
       "    </tr>\n",
       "    <tr>\n",
       "      <th rowspan=\"4\" valign=\"top\">Held By</th>\n",
       "      <th>Fall</th>\n",
       "      <td>1250</td>\n",
       "    </tr>\n",
       "    <tr>\n",
       "      <th>Spring</th>\n",
       "      <td>1584</td>\n",
       "    </tr>\n",
       "    <tr>\n",
       "      <th>Summer</th>\n",
       "      <td>1260</td>\n",
       "    </tr>\n",
       "    <tr>\n",
       "      <th>Winter</th>\n",
       "      <td>1561</td>\n",
       "    </tr>\n",
       "    <tr>\n",
       "      <th rowspan=\"4\" valign=\"top\">Investigation</th>\n",
       "      <th>Fall</th>\n",
       "      <td>9242</td>\n",
       "    </tr>\n",
       "    <tr>\n",
       "      <th>Spring</th>\n",
       "      <td>10965</td>\n",
       "    </tr>\n",
       "    <tr>\n",
       "      <th>Summer</th>\n",
       "      <td>9059</td>\n",
       "    </tr>\n",
       "    <tr>\n",
       "      <th>Winter</th>\n",
       "      <td>9610</td>\n",
       "    </tr>\n",
       "    <tr>\n",
       "      <th rowspan=\"4\" valign=\"top\">Late Leaving Garage</th>\n",
       "      <th>Fall</th>\n",
       "      <td>16841</td>\n",
       "    </tr>\n",
       "    <tr>\n",
       "      <th>Spring</th>\n",
       "      <td>15763</td>\n",
       "    </tr>\n",
       "    <tr>\n",
       "      <th>Summer</th>\n",
       "      <td>13520</td>\n",
       "    </tr>\n",
       "    <tr>\n",
       "      <th>Winter</th>\n",
       "      <td>18673</td>\n",
       "    </tr>\n",
       "    <tr>\n",
       "      <th>Late Leaving Garage - Management</th>\n",
       "      <th>Spring</th>\n",
       "      <td>8</td>\n",
       "    </tr>\n",
       "    <tr>\n",
       "      <th>Late Leaving Garage - Mechanical</th>\n",
       "      <th>Spring</th>\n",
       "      <td>42</td>\n",
       "    </tr>\n",
       "    <tr>\n",
       "      <th>Late Leaving Garage - Operator</th>\n",
       "      <th>Spring</th>\n",
       "      <td>22</td>\n",
       "    </tr>\n",
       "    <tr>\n",
       "      <th rowspan=\"4\" valign=\"top\">Mechanical</th>\n",
       "      <th>Fall</th>\n",
       "      <td>36593</td>\n",
       "    </tr>\n",
       "    <tr>\n",
       "      <th>Spring</th>\n",
       "      <td>45748</td>\n",
       "    </tr>\n",
       "    <tr>\n",
       "      <th>Summer</th>\n",
       "      <td>38606</td>\n",
       "    </tr>\n",
       "    <tr>\n",
       "      <th>Winter</th>\n",
       "      <td>46057</td>\n",
       "    </tr>\n",
       "    <tr>\n",
       "      <th rowspan=\"4\" valign=\"top\">Overhead - Pantograph</th>\n",
       "      <th>Fall</th>\n",
       "      <td>27</td>\n",
       "    </tr>\n",
       "    <tr>\n",
       "      <th>Spring</th>\n",
       "      <td>35</td>\n",
       "    </tr>\n",
       "    <tr>\n",
       "      <th>Summer</th>\n",
       "      <td>9</td>\n",
       "    </tr>\n",
       "    <tr>\n",
       "      <th>Winter</th>\n",
       "      <td>26</td>\n",
       "    </tr>\n",
       "    <tr>\n",
       "      <th rowspan=\"4\" valign=\"top\">Utilized Off Route</th>\n",
       "      <th>Fall</th>\n",
       "      <td>15405</td>\n",
       "    </tr>\n",
       "    <tr>\n",
       "      <th>Spring</th>\n",
       "      <td>17253</td>\n",
       "    </tr>\n",
       "    <tr>\n",
       "      <th>Summer</th>\n",
       "      <td>15629</td>\n",
       "    </tr>\n",
       "    <tr>\n",
       "      <th>Winter</th>\n",
       "      <td>17912</td>\n",
       "    </tr>\n",
       "    <tr>\n",
       "      <th rowspan=\"2\" valign=\"top\">Vision</th>\n",
       "      <th>Spring</th>\n",
       "      <td>53</td>\n",
       "    </tr>\n",
       "    <tr>\n",
       "      <th>Summer</th>\n",
       "      <td>2</td>\n",
       "    </tr>\n",
       "  </tbody>\n",
       "</table>\n",
       "</div>"
      ],
      "text/plain": [
       "                                         Incident\n",
       "Incident                         Season          \n",
       "Diversion                        Fall        1875\n",
       "                                 Spring      2069\n",
       "                                 Summer      1848\n",
       "                                 Winter      1557\n",
       "Emergency Services               Fall        1924\n",
       "                                 Spring      2307\n",
       "                                 Summer      1923\n",
       "                                 Winter      1945\n",
       "General Delay                    Fall       12789\n",
       "                                 Spring     11982\n",
       "                                 Summer      9609\n",
       "                                 Winter     10009\n",
       "Held By                          Fall        1250\n",
       "                                 Spring      1584\n",
       "                                 Summer      1260\n",
       "                                 Winter      1561\n",
       "Investigation                    Fall        9242\n",
       "                                 Spring     10965\n",
       "                                 Summer      9059\n",
       "                                 Winter      9610\n",
       "Late Leaving Garage              Fall       16841\n",
       "                                 Spring     15763\n",
       "                                 Summer     13520\n",
       "                                 Winter     18673\n",
       "Late Leaving Garage - Management Spring         8\n",
       "Late Leaving Garage - Mechanical Spring        42\n",
       "Late Leaving Garage - Operator   Spring        22\n",
       "Mechanical                       Fall       36593\n",
       "                                 Spring     45748\n",
       "                                 Summer     38606\n",
       "                                 Winter     46057\n",
       "Overhead - Pantograph            Fall          27\n",
       "                                 Spring        35\n",
       "                                 Summer         9\n",
       "                                 Winter        26\n",
       "Utilized Off Route               Fall       15405\n",
       "                                 Spring     17253\n",
       "                                 Summer     15629\n",
       "                                 Winter     17912\n",
       "Vision                           Spring        53\n",
       "                                 Summer         2"
      ]
     },
     "execution_count": 28,
     "metadata": {},
     "output_type": "execute_result"
    }
   ],
   "source": [
    "###WL - Incident breakdown by season\n",
    "incident_df  = df.groupby(['Incident', 'Season']).agg({'Incident' : 'count'})#.reset_index()\n",
    "incident_df\n"
   ]
  },
  {
   "cell_type": "markdown",
   "metadata": {},
   "source": [
    "# Analysis of \"Count of Incident grouped by Incident and Season\" Plot\n",
    "We can see that \"Mechanical\" and \"Utilized off Route\" incidents occur more frequently in spring and winter"
   ]
  },
  {
   "cell_type": "code",
   "execution_count": 65,
   "metadata": {},
   "outputs": [
    {
     "data": {
      "image/png": "[encoded data removed]",
      "text/plain": [
       "<Figure size 1080x1080 with 1 Axes>"
      ]
     },
     "metadata": {
      "needs_background": "light"
     },
     "output_type": "display_data"
    }
   ],
   "source": [
    "season_name = ['Winter','Spring','Summer','Fall']\n",
    "incident_name = incident_df['Incident']\n",
    "#incident_df.plot.bar(x = incident_name, y = ['Winter','Spring','Summer','Fall'])\n",
    "#incident_df.unstack().plot.bar(figsize = (100,100))\n",
    "incident_df.unstack().plot.bar(figsize = (15,15), title = \"Count of Incident grouped by Incident and Season\")\n",
    "plt.savefig('incident_by_season.png')"
   ]
  },
  {
   "cell_type": "code",
   "execution_count": 46,
   "metadata": {},
   "outputs": [
    {
     "data": {
      "text/html": [
       "<div>\n",
       "<style scoped>\n",
       "    .dataframe tbody tr th:only-of-type {\n",
       "        vertical-align: middle;\n",
       "    }\n",
       "\n",
       "    .dataframe tbody tr th {\n",
       "        vertical-align: top;\n",
       "    }\n",
       "\n",
       "    .dataframe thead th {\n",
       "        text-align: right;\n",
       "    }\n",
       "</style>\n",
       "<table border=\"1\" class=\"dataframe\">\n",
       "  <thead>\n",
       "    <tr style=\"text-align: right;\">\n",
       "      <th></th>\n",
       "      <th></th>\n",
       "      <th>Min Delay</th>\n",
       "    </tr>\n",
       "    <tr>\n",
       "      <th>Incident</th>\n",
       "      <th>Season</th>\n",
       "      <th></th>\n",
       "    </tr>\n",
       "  </thead>\n",
       "  <tbody>\n",
       "    <tr>\n",
       "      <th rowspan=\"4\" valign=\"top\">Diversion</th>\n",
       "      <th>Fall</th>\n",
       "      <td>8.186133</td>\n",
       "    </tr>\n",
       "    <tr>\n",
       "      <th>Spring</th>\n",
       "      <td>8.323828</td>\n",
       "    </tr>\n",
       "    <tr>\n",
       "      <th>Summer</th>\n",
       "      <td>7.532468</td>\n",
       "    </tr>\n",
       "    <tr>\n",
       "      <th>Winter</th>\n",
       "      <td>8.228003</td>\n",
       "    </tr>\n",
       "    <tr>\n",
       "      <th rowspan=\"4\" valign=\"top\">Emergency Services</th>\n",
       "      <th>Fall</th>\n",
       "      <td>9.202703</td>\n",
       "    </tr>\n",
       "    <tr>\n",
       "      <th>Spring</th>\n",
       "      <td>9.201994</td>\n",
       "    </tr>\n",
       "    <tr>\n",
       "      <th>Summer</th>\n",
       "      <td>9.417057</td>\n",
       "    </tr>\n",
       "    <tr>\n",
       "      <th>Winter</th>\n",
       "      <td>9.175835</td>\n",
       "    </tr>\n",
       "    <tr>\n",
       "      <th rowspan=\"4\" valign=\"top\">General Delay</th>\n",
       "      <th>Fall</th>\n",
       "      <td>11.240754</td>\n",
       "    </tr>\n",
       "    <tr>\n",
       "      <th>Spring</th>\n",
       "      <td>10.983642</td>\n",
       "    </tr>\n",
       "    <tr>\n",
       "      <th>Summer</th>\n",
       "      <td>11.075970</td>\n",
       "    </tr>\n",
       "    <tr>\n",
       "      <th>Winter</th>\n",
       "      <td>10.916076</td>\n",
       "    </tr>\n",
       "    <tr>\n",
       "      <th rowspan=\"4\" valign=\"top\">Held By</th>\n",
       "      <th>Fall</th>\n",
       "      <td>9.048800</td>\n",
       "    </tr>\n",
       "    <tr>\n",
       "      <th>Spring</th>\n",
       "      <td>8.957071</td>\n",
       "    </tr>\n",
       "    <tr>\n",
       "      <th>Summer</th>\n",
       "      <td>9.546032</td>\n",
       "    </tr>\n",
       "    <tr>\n",
       "      <th>Winter</th>\n",
       "      <td>8.941704</td>\n",
       "    </tr>\n",
       "    <tr>\n",
       "      <th rowspan=\"4\" valign=\"top\">Investigation</th>\n",
       "      <th>Fall</th>\n",
       "      <td>8.999351</td>\n",
       "    </tr>\n",
       "    <tr>\n",
       "      <th>Spring</th>\n",
       "      <td>8.853808</td>\n",
       "    </tr>\n",
       "    <tr>\n",
       "      <th>Summer</th>\n",
       "      <td>8.940722</td>\n",
       "    </tr>\n",
       "    <tr>\n",
       "      <th>Winter</th>\n",
       "      <td>9.047451</td>\n",
       "    </tr>\n",
       "    <tr>\n",
       "      <th rowspan=\"4\" valign=\"top\">Late Leaving Garage</th>\n",
       "      <th>Fall</th>\n",
       "      <td>8.430259</td>\n",
       "    </tr>\n",
       "    <tr>\n",
       "      <th>Spring</th>\n",
       "      <td>8.026772</td>\n",
       "    </tr>\n",
       "    <tr>\n",
       "      <th>Summer</th>\n",
       "      <td>8.583284</td>\n",
       "    </tr>\n",
       "    <tr>\n",
       "      <th>Winter</th>\n",
       "      <td>8.420447</td>\n",
       "    </tr>\n",
       "    <tr>\n",
       "      <th>Late Leaving Garage - Management</th>\n",
       "      <th>Spring</th>\n",
       "      <td>5.125000</td>\n",
       "    </tr>\n",
       "    <tr>\n",
       "      <th>Late Leaving Garage - Mechanical</th>\n",
       "      <th>Spring</th>\n",
       "      <td>9.357143</td>\n",
       "    </tr>\n",
       "    <tr>\n",
       "      <th>Late Leaving Garage - Operator</th>\n",
       "      <th>Spring</th>\n",
       "      <td>7.318182</td>\n",
       "    </tr>\n",
       "    <tr>\n",
       "      <th rowspan=\"4\" valign=\"top\">Mechanical</th>\n",
       "      <th>Fall</th>\n",
       "      <td>8.553303</td>\n",
       "    </tr>\n",
       "    <tr>\n",
       "      <th>Spring</th>\n",
       "      <td>8.529007</td>\n",
       "    </tr>\n",
       "    <tr>\n",
       "      <th>Summer</th>\n",
       "      <td>8.847873</td>\n",
       "    </tr>\n",
       "    <tr>\n",
       "      <th>Winter</th>\n",
       "      <td>8.512018</td>\n",
       "    </tr>\n",
       "    <tr>\n",
       "      <th rowspan=\"4\" valign=\"top\">Overhead - Pantograph</th>\n",
       "      <th>Fall</th>\n",
       "      <td>6.296296</td>\n",
       "    </tr>\n",
       "    <tr>\n",
       "      <th>Spring</th>\n",
       "      <td>7.057143</td>\n",
       "    </tr>\n",
       "    <tr>\n",
       "      <th>Summer</th>\n",
       "      <td>7.777778</td>\n",
       "    </tr>\n",
       "    <tr>\n",
       "      <th>Winter</th>\n",
       "      <td>6.230769</td>\n",
       "    </tr>\n",
       "    <tr>\n",
       "      <th rowspan=\"4\" valign=\"top\">Utilized Off Route</th>\n",
       "      <th>Fall</th>\n",
       "      <td>7.240831</td>\n",
       "    </tr>\n",
       "    <tr>\n",
       "      <th>Spring</th>\n",
       "      <td>7.193358</td>\n",
       "    </tr>\n",
       "    <tr>\n",
       "      <th>Summer</th>\n",
       "      <td>7.977350</td>\n",
       "    </tr>\n",
       "    <tr>\n",
       "      <th>Winter</th>\n",
       "      <td>7.369864</td>\n",
       "    </tr>\n",
       "    <tr>\n",
       "      <th rowspan=\"2\" valign=\"top\">Vision</th>\n",
       "      <th>Spring</th>\n",
       "      <td>10.452830</td>\n",
       "    </tr>\n",
       "    <tr>\n",
       "      <th>Summer</th>\n",
       "      <td>11.000000</td>\n",
       "    </tr>\n",
       "  </tbody>\n",
       "</table>\n",
       "</div>"
      ],
      "text/plain": [
       "                                         Min Delay\n",
       "Incident                         Season           \n",
       "Diversion                        Fall     8.186133\n",
       "                                 Spring   8.323828\n",
       "                                 Summer   7.532468\n",
       "                                 Winter   8.228003\n",
       "Emergency Services               Fall     9.202703\n",
       "                                 Spring   9.201994\n",
       "                                 Summer   9.417057\n",
       "                                 Winter   9.175835\n",
       "General Delay                    Fall    11.240754\n",
       "                                 Spring  10.983642\n",
       "                                 Summer  11.075970\n",
       "                                 Winter  10.916076\n",
       "Held By                          Fall     9.048800\n",
       "                                 Spring   8.957071\n",
       "                                 Summer   9.546032\n",
       "                                 Winter   8.941704\n",
       "Investigation                    Fall     8.999351\n",
       "                                 Spring   8.853808\n",
       "                                 Summer   8.940722\n",
       "                                 Winter   9.047451\n",
       "Late Leaving Garage              Fall     8.430259\n",
       "                                 Spring   8.026772\n",
       "                                 Summer   8.583284\n",
       "                                 Winter   8.420447\n",
       "Late Leaving Garage - Management Spring   5.125000\n",
       "Late Leaving Garage - Mechanical Spring   9.357143\n",
       "Late Leaving Garage - Operator   Spring   7.318182\n",
       "Mechanical                       Fall     8.553303\n",
       "                                 Spring   8.529007\n",
       "                                 Summer   8.847873\n",
       "                                 Winter   8.512018\n",
       "Overhead - Pantograph            Fall     6.296296\n",
       "                                 Spring   7.057143\n",
       "                                 Summer   7.777778\n",
       "                                 Winter   6.230769\n",
       "Utilized Off Route               Fall     7.240831\n",
       "                                 Spring   7.193358\n",
       "                                 Summer   7.977350\n",
       "                                 Winter   7.369864\n",
       "Vision                           Spring  10.452830\n",
       "                                 Summer  11.000000"
      ]
     },
     "execution_count": 46,
     "metadata": {},
     "output_type": "execute_result"
    }
   ],
   "source": [
    "###WL - Incident breakdown by season\n",
    "incident_mean_df  = df.groupby(['Incident', 'Season']).agg({'Min Delay' : 'mean'})#.reset_index()\n",
    "incident_mean_df"
   ]
  },
  {
   "cell_type": "markdown",
   "metadata": {},
   "source": [
    "# Analysis of \"Mean Mintues Delayed grouped by Incident and Season\" Plot\n",
    "\"Mechanical\" and \"Utilized off Route\" mean mintues delayed are consistant across seasons."
   ]
  },
  {
   "cell_type": "code",
   "execution_count": 66,
   "metadata": {},
   "outputs": [
    {
     "data": {
      "image/png": "[encoded data removed]",
      "text/plain": [
       "<Figure size 720x720 with 1 Axes>"
      ]
     },
     "metadata": {
      "needs_background": "light"
     },
     "output_type": "display_data"
    }
   ],
   "source": [
    "incident_mean_df.unstack().plot.bar(figsize = (10,10), title = \"Mean Minutes Deplayed grouped by Incident and Season\")\n",
    "plt.savefig('mean_min_delay_boxplot.png')"
   ]
  },
  {
   "cell_type": "markdown",
   "metadata": {},
   "source": [
    "# Analysis of \"Mean Temp\" Plot\n",
    "\"Mechanical\" incidents occur more frequently at 0 degrees and 20 degrees."
   ]
  },
  {
   "cell_type": "code",
   "execution_count": 67,
   "metadata": {},
   "outputs": [
    {
     "data": {
      "image/png": "[encoded data removed]",
      "text/plain": [
       "<Figure size 432x288 with 2 Axes>"
      ]
     },
     "metadata": {
      "needs_background": "light"
     },
     "output_type": "display_data"
    }
   ],
   "source": [
    "mechanical_df = df[df.Incident == 'Mechanical']\n",
    "mechanical_df1 = mechanical_df[['Min Delay','Mean Temp']]\n",
    "mechanical_df1.hist()\n",
    "plt.savefig('histo.png')"
   ]
  },
  {
   "cell_type": "code",
   "execution_count": 59,
   "metadata": {},
   "outputs": [
    {
     "data": {
      "text/plain": [
       "<matplotlib.axes._subplots.AxesSubplot at 0x1678f45b240>"
      ]
     },
     "execution_count": 59,
     "metadata": {},
     "output_type": "execute_result"
    },
    {
     "data": {
      "image/png": "[encoded data removed]",
      "text/plain": [
       "<Figure size 432x288 with 1 Axes>"
      ]
     },
     "metadata": {
      "needs_background": "light"
     },
     "output_type": "display_data"
    }
   ],
   "source": [
    "temp_df = df.groupby(['Season']).agg({'Mean Temp' : 'mean'})#.reset_index()\n",
    "temp_df\n",
    "temp_df.plot.line()"
   ]
  },
  {
   "cell_type": "code",
   "execution_count": 19,
   "metadata": {},
   "outputs": [],
   "source": [
    "###WL\n",
    "group1 = df[df[\"Season\"] == \"Fall\"][\"Min Delay\"]\n",
    "group2 = df[df[\"Season\"] == \"Winter\"][\"Min Delay\"]\n",
    "group3 = df[df[\"Season\"] == \"Spring\"][\"Min Delay\"]\n",
    "group4 = df[df[\"Season\"] == \"Summer\"][\"Min Delay\"]\n"
   ]
  },
  {
   "cell_type": "code",
   "execution_count": 20,
   "metadata": {},
   "outputs": [
    {
     "data": {
      "text/plain": [
       "F_onewayResult(statistic=119.22722955081571, pvalue=3.503694823182298e-77)"
      ]
     },
     "execution_count": 20,
     "metadata": {},
     "output_type": "execute_result"
    }
   ],
   "source": [
    "###WL\n",
    "stats.f_oneway(group1,group2,group3,group4)"
   ]
  },
  {
   "cell_type": "markdown",
   "metadata": {},
   "source": [
    "# Summary\n",
    "Null Hypothesis: Seasonality (fall, winter, summer, spring) has no significant impact on TTC surface route (bus and streetcar) delays.\n",
    "\n",
    "Alternate Hypothesis: Seasonality has a significant impact on TTC surface route delays.\n",
    "\n",
    "Analysis: Based on the ANOVA test we have a p-value less than 0.05, so we are rejecting the null hypothesis.  Therefore, seasonality has a significant impact on TTC surface route delays.\n"
   ]
  },
  {
   "cell_type": "code",
   "execution_count": null,
   "metadata": {},
   "outputs": [],
   "source": []
  },
  {
   "cell_type": "code",
   "execution_count": null,
   "metadata": {},
   "outputs": [],
   "source": []
  }
 ],
 "metadata": {
  "kernelspec": {
   "display_name": "Python 3",
   "language": "python",
   "name": "python3"
  },
  "language_info": {
   "codemirror_mode": {
    "name": "ipython",
    "version": 3
   },
   "file_extension": ".py",
   "mimetype": "text/x-python",
   "name": "python",
   "nbconvert_exporter": "python",
   "pygments_lexer": "ipython3",
   "version": "3.7.3"
  }
 },
 "nbformat": 4,
 "nbformat_minor": 2
}
